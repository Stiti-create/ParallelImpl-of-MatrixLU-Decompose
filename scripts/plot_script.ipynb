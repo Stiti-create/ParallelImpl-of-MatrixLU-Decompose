{
 "cells": [
  {
   "cell_type": "code",
   "execution_count": 1,
   "metadata": {},
   "outputs": [],
   "source": [
    "import re\n",
    "import matplotlib.pyplot as plt"
   ]
  },
  {
   "cell_type": "code",
   "execution_count": null,
   "metadata": {},
   "outputs": [],
   "source": [
    "# Define regular expressions to extract relevant information\n",
    "pattern_openmp = r\"N: \\d+, Parallel\\(OpenMP\\): (\\d+) ms, N_threads: (\\d+), N_processor: (\\d+)\"\n",
    "pattern_pthread = r\"N: \\d+, Parallel\\(pthread\\): (\\d+) ms, N_threads: (\\d+), N_processor: (\\d+)\"\n",
    "pattern_sequential = r\"N: \\d+, Sequential: (\\d+) ms, N_threads: (\\d+), N_processor: (\\d+)\""
   ]
  },
  {
   "cell_type": "code",
   "execution_count": null,
   "metadata": {},
   "outputs": [],
   "source": [
    "# Initialize lists to store parsed data\n",
    "threads_seq = []\n",
    "time_seq = []\n",
    "threads_openmp = []\n",
    "time_openmp = []\n",
    "threads_pthread = []\n",
    "time_pthread = []\n",
    "processors_openmp = []\n",
    "efficiency_openmp = []\n",
    "processors_pthread = []\n",
    "efficiency_pthread = []"
   ]
  },
  {
   "cell_type": "code",
   "execution_count": null,
   "metadata": {},
   "outputs": [],
   "source": [
    "# Read data from file\n",
    "with open(\"../log.txt\", \"r\") as file:\n",
    "    data = file.read()"
   ]
  },
  {
   "cell_type": "code",
   "execution_count": null,
   "metadata": {},
   "outputs": [],
   "source": [
    "# Parse the data and populate the lists\n",
    "for match in re.finditer(pattern_openmp, data):\n",
    "    time_openmp.append(int(match.group(1)))\n",
    "    threads_openmp.append(int(match.group(2)))\n",
    "    processors_openmp.append(int(match.group(3)))\n",
    "    efficiency_openmp.append(time_openmp[-1] / (int(match.group(2)) * int(match.group(3))))\n",
    "\n",
    "for match in re.finditer(pattern_pthread, data):\n",
    "    time_pthread.append(int(match.group(1)))\n",
    "    threads_pthread.append(int(match.group(2)))\n",
    "    processors_pthread.append(int(match.group(3)))\n",
    "    efficiency_pthread.append(time_pthread[-1] / (int(match.group(2)) * int(match.group(3))))\n",
    "\n",
    "for match in re.finditer(pattern_sequential, data):\n",
    "    time_seq.append(int(match.group(1)))\n",
    "    threads_seq.append(int(match.group(2)))"
   ]
  },
  {
   "cell_type": "code",
   "execution_count": 2,
   "metadata": {},
   "outputs": [],
   "source": [
    "processors_openmp = [1, 2, 4, 8, 16]\n",
    "processors_pthread = [1, 2, 4, 8, 16]\n"
   ]
  },
  {
   "cell_type": "code",
   "execution_count": null,
   "metadata": {},
   "outputs": [],
   "source": [
    "time_seq = []\n",
    "time_pthread = []\n",
    "time_openmp = []"
   ]
  },
  {
   "cell_type": "code",
   "execution_count": null,
   "metadata": {},
   "outputs": [],
   "source": [
    "# Calculate speedup for each configuration\n",
    "speedup_openmp = [time_seq[0] / t for t in time_openmp]\n",
    "speedup_pthread = [time_seq[0] / t for t in time_pthread]\n"
   ]
  },
  {
   "cell_type": "code",
   "execution_count": null,
   "metadata": {},
   "outputs": [],
   "source": [
    "# Calculate efficiency for each configuration\n",
    "efficiency_openmp = [s / p for s, p in zip(speedup_openmp, processors_openmp)]\n",
    "efficiency_pthread = [s / p for s, p in zip(speedup_pthread, processors_pthread)]\n"
   ]
  },
  {
   "cell_type": "code",
   "execution_count": null,
   "metadata": {},
   "outputs": [],
   "source": [
    "# Plot for number of processors vs parallel efficiency for OpenMP\n",
    "plt.figure(figsize=(12, 10))\n",
    "plt.scatter(processors_openmp, efficiency_openmp, marker='o', label='OpenMP', color='r')\n",
    "plt.plot(processors_openmp, efficiency_openmp, linestyle='-', color='r')\n",
    "plt.xlabel('Number of Processors')\n",
    "plt.ylabel('Parallel Efficiency')\n",
    "plt.title('Number of Processors vs Parallel Efficiency (OpenMP)')\n",
    "plt.legend()\n",
    "plt.savefig('../plots/openmp_efficiency.png')\n",
    "plt.grid(True)\n",
    "plt.show()"
   ]
  },
  {
   "cell_type": "code",
   "execution_count": null,
   "metadata": {},
   "outputs": [],
   "source": [
    "plt.figure(figsize=(12, 10))\n",
    "plt.scatter(processors_pthread, efficiency_pthread, marker='o', label='Pthread', color='b')\n",
    "plt.plot(processors_pthread, efficiency_pthread, linestyle='-', color='b')\n",
    "plt.xlabel('Number of Processors')\n",
    "plt.ylabel('Parallel Efficiency')\n",
    "plt.title('Number of Processors vs Parallel Efficiency (pthreads)')\n",
    "plt.legend()\n",
    "plt.savefig('../plots/pthread_efficiency.png')\n",
    "plt.grid(True)\n",
    "plt.show()\n"
   ]
  },
  {
   "cell_type": "code",
   "execution_count": null,
   "metadata": {},
   "outputs": [],
   "source": [
    "# Plot for speedup vs processor for OpenMP and Pthread\n",
    "plt.figure(figsize=(12, 10))\n",
    "plt.scatter(processors_openmp, speedup_openmp, marker='o', label='OpenMP', color='r')\n",
    "plt.plot(processors_openmp, speedup_openmp, linestyle='-', color='r')\n",
    "plt.xlabel('Number of Processors')\n",
    "plt.ylabel('Speedup')\n",
    "plt.title('Speedup vs Number of Processors (OpenMP)')\n",
    "plt.legend()\n",
    "plt.grid(True)\n",
    "plt.savefig('../plots/openmp_speedup.png')\n",
    "plt.tight_layout()\n",
    "plt.show()"
   ]
  },
  {
   "cell_type": "code",
   "execution_count": null,
   "metadata": {},
   "outputs": [],
   "source": [
    "# Plot for speedup vs processor for OpenMP and Pthread\n",
    "plt.figure(figsize=(12, 10))\n",
    "plt.scatter(processors_pthread, speedup_pthread, marker='o', label='Pthread', color='b')\n",
    "plt.plot(processors_pthread, speedup_pthread, linestyle='-', color='b')\n",
    "plt.xlabel('Number of Processors')\n",
    "plt.ylabel('Speedup')\n",
    "plt.title('Speedup vs Number of Processors (pthreads)')\n",
    "plt.legend()\n",
    "plt.grid(True)\n",
    "plt.savefig('../plots/pthread_speedup.png')\n",
    "plt.tight_layout()\n",
    "plt.show()"
   ]
  },
  {
   "cell_type": "code",
   "execution_count": null,
   "metadata": {},
   "outputs": [],
   "source": [
    "# Plot for speedup vs processor for OpenMP and Pthread\n",
    "plt.figure(figsize=(12, 10))\n",
    "plt.scatter(processors_pthread, speedup_pthread, marker='o', label='Pthread', color='b')\n",
    "plt.plot(processors_pthread, speedup_pthread, linestyle='-', color='b')\n",
    "plt.scatter(processors_openmp, speedup_openmp, marker='o', label='OpenMP', color='r')\n",
    "plt.plot(processors_openmp, speedup_openmp, linestyle='-', color='r')\n",
    "plt.xlabel('Number of Processors')\n",
    "plt.ylabel('Speedup')\n",
    "plt.title('Speedup vs Number of Processors (pthreads vs OpenMP)')\n",
    "plt.legend()\n",
    "plt.grid(True)\n",
    "plt.savefig('../plots/comp_speedup.png')\n",
    "plt.tight_layout()\n",
    "plt.show()"
   ]
  },
  {
   "cell_type": "code",
   "execution_count": null,
   "metadata": {},
   "outputs": [],
   "source": [
    "# Plot for number of processors vs parallel efficiency for OpenMP\n",
    "plt.figure(figsize=(12, 10))\n",
    "plt.scatter(processors_openmp, efficiency_openmp, marker='o', label='OpenMP', color='r')\n",
    "plt.plot(processors_openmp, efficiency_openmp, linestyle='-', color='r')\n",
    "plt.scatter(processors_pthread, efficiency_pthread, marker='o', label='Pthread', color='b')\n",
    "plt.plot(processors_pthread, efficiency_pthread, linestyle='-', color='b')\n",
    "plt.xlabel('Number of Processors')\n",
    "plt.ylabel('Parallel Efficiency')\n",
    "plt.title('Number of Processors vs Parallel Efficiency (OpenMP)')\n",
    "plt.legend()\n",
    "plt.savefig('../plots/comp_efficiency.png')\n",
    "plt.grid(True)\n",
    "plt.show()"
   ]
  }
 ],
 "metadata": {
  "kernelspec": {
   "display_name": "base",
   "language": "python",
   "name": "python3"
  },
  "language_info": {
   "codemirror_mode": {
    "name": "ipython",
    "version": 3
   },
   "file_extension": ".py",
   "mimetype": "text/x-python",
   "name": "python",
   "nbconvert_exporter": "python",
   "pygments_lexer": "ipython3",
   "version": "3.9.12"
  },
  "orig_nbformat": 4
 },
 "nbformat": 4,
 "nbformat_minor": 2
}
