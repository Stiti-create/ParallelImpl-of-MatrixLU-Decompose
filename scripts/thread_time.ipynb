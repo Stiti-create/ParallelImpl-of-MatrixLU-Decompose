{
 "cells": [
  {
   "cell_type": "code",
   "execution_count": null,
   "metadata": {},
   "outputs": [],
   "source": [
    "import re\n",
    "from collections import Counter\n",
    "import matplotlib.pyplot as plt"
   ]
  },
  {
   "cell_type": "code",
   "execution_count": null,
   "metadata": {},
   "outputs": [],
   "source": [
    "# Define regular expressions to extract relevant information\n",
    "pattern_openmp = r\"N: \\d+, Parallel\\(OpenMP\\): (\\d+) ms, N_threads: (\\d+), N_processor: (\\d+)\"\n",
    "pattern_pthread = r\"N: \\d+, Parallel\\(pthread\\): (\\d+) ms, N_threads: (\\d+), N_processor: (\\d+)\"\n",
    "pattern_sequential = r\"N: \\d+, Sequential: (\\d+) ms, N_threads: (\\d+), N_processor: (\\d+)\""
   ]
  },
  {
   "cell_type": "code",
   "execution_count": null,
   "metadata": {},
   "outputs": [],
   "source": [
    "# Initialize lists to store parsed data\n",
    "threads_seq = []\n",
    "time_seq = []\n",
    "threads_openmp = []\n",
    "time_openmp = []\n",
    "threads_pthread = []\n",
    "time_pthread = []\n",
    "processors_seq = []\n",
    "processors_openmp = []\n",
    "processors_pthread = []"
   ]
  },
  {
   "cell_type": "code",
   "execution_count": 1,
   "metadata": {},
   "outputs": [],
   "source": [
    "\n",
    "# Read data from file\n",
    "with open(\"../log.txt\", \"r\") as file:\n",
    "    data = file.read()"
   ]
  },
  {
   "cell_type": "code",
   "execution_count": null,
   "metadata": {},
   "outputs": [],
   "source": [
    "# Parse the data and populate the lists\n",
    "for match in re.finditer(pattern_openmp, data):\n",
    "    time_openmp.append(int(match.group(1)))\n",
    "    threads_openmp.append(int(match.group(2)))\n",
    "    processors_openmp.append(int(match.group(3)))\n",
    "\n",
    "for match in re.finditer(pattern_pthread, data):\n",
    "    time_pthread.append(int(match.group(1)))\n",
    "    threads_pthread.append(int(match.group(2)))\n",
    "    processors_pthread.append(int(match.group(3)))\n",
    "\n",
    "for match in re.finditer(pattern_sequential, data):\n",
    "    time_seq.append(int(match.group(1)))\n",
    "    threads_seq.append(int(match.group(2)))\n",
    "    processors_seq.append(int(match.group(3)))"
   ]
  },
  {
   "cell_type": "code",
   "execution_count": null,
   "metadata": {},
   "outputs": [],
   "source": [
    "# Determine the most common number of processors for each method\n",
    "most_common_processors_seq = Counter(processors_seq).most_common(1)[0][0]\n",
    "most_common_processors_openmp = Counter(processors_openmp).most_common(1)[0][0]\n",
    "most_common_processors_pthread = Counter(processors_pthread).most_common(1)[0][0]"
   ]
  },
  {
   "cell_type": "code",
   "execution_count": null,
   "metadata": {},
   "outputs": [],
   "source": [
    "# Filter data for the most common number of processors\n",
    "filtered_threads_seq = [threads_seq[i] for i in range(len(threads_seq)) if processors_seq[i] == most_common_processors_seq]\n",
    "filtered_time_seq = [time_seq[i] for i in range(len(time_seq)) if processors_seq[i] == most_common_processors_seq]\n",
    "\n",
    "filtered_threads_openmp = [threads_openmp[i] for i in range(len(threads_openmp)) if processors_openmp[i] == most_common_processors_openmp]\n",
    "filtered_time_openmp = [time_openmp[i] for i in range(len(time_openmp)) if processors_openmp[i] == most_common_processors_openmp]\n",
    "\n",
    "filtered_threads_pthread = [threads_pthread[i] for i in range(len(threads_pthread)) if processors_pthread[i] == most_common_processors_pthread]\n",
    "filtered_time_pthread = [time_pthread[i] for i in range(len(time_pthread)) if processors_pthread[i] == most_common_processors_pthread]\n"
   ]
  },
  {
   "cell_type": "code",
   "execution_count": null,
   "metadata": {},
   "outputs": [],
   "source": [
    "# Plotting the graph\n",
    "plt.figure(figsize=(8, 6))\n",
    "\n",
    "plt.plot(filtered_threads_seq, filtered_time_seq, marker='o', label=f'Sequential (Processor: {most_common_processors_seq})')\n",
    "plt.plot(filtered_threads_openmp, filtered_time_openmp, marker='o', label=f'OpenMP (Processor: {most_common_processors_openmp})')\n",
    "plt.plot(filtered_threads_pthread, filtered_time_pthread, marker='o', label=f'Pthread (Processor: {most_common_processors_pthread})')\n",
    "\n",
    "plt.xlabel('Threads')\n",
    "plt.ylabel('Time (ms)')\n",
    "plt.title('Number of Threads vs Time (Most Common Processor)')\n",
    "plt.legend()\n",
    "plt.grid(True)\n",
    "plt.show()"
   ]
  }
 ],
 "metadata": {
  "kernelspec": {
   "display_name": "base",
   "language": "python",
   "name": "python3"
  },
  "language_info": {
   "codemirror_mode": {
    "name": "ipython",
    "version": 3
   },
   "file_extension": ".py",
   "mimetype": "text/x-python",
   "name": "python",
   "nbconvert_exporter": "python",
   "pygments_lexer": "ipython3",
   "version": "3.9.12"
  },
  "orig_nbformat": 4
 },
 "nbformat": 4,
 "nbformat_minor": 2
}
